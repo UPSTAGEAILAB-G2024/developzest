{
 "cells": [
  {
   "cell_type": "markdown",
   "metadata": {},
   "source": [
    "# Install Dash"
   ]
  },
  {
   "cell_type": "code",
   "execution_count": null,
   "metadata": {},
   "outputs": [],
   "source": [
    "%pip install dash\n",
    "%pip install jupyter-dash"
   ]
  },
  {
   "cell_type": "markdown",
   "metadata": {},
   "source": [
    "# Source code encoding"
   ]
  },
  {
   "cell_type": "code",
   "execution_count": 1,
   "metadata": {},
   "outputs": [],
   "source": [
    "#-*- coding: utf-8 -*-"
   ]
  },
  {
   "cell_type": "markdown",
   "metadata": {},
   "source": [
    "# Import packages"
   ]
  },
  {
   "cell_type": "code",
   "execution_count": 2,
   "metadata": {},
   "outputs": [],
   "source": [
    "import os\n",
    "from dateutil.parser import parse\n",
    "import pandas as pd"
   ]
  },
  {
   "cell_type": "code",
   "execution_count": 3,
   "metadata": {},
   "outputs": [],
   "source": [
    "import dash\n",
    "from dash import Dash, html, dash_table, dcc, callback, Input, Output\n",
    "import plotly.express as px"
   ]
  },
  {
   "cell_type": "markdown",
   "metadata": {},
   "source": [
    "# Incorporate data"
   ]
  },
  {
   "cell_type": "code",
   "execution_count": 4,
   "metadata": {},
   "outputs": [],
   "source": [
    "DASHBOARD_DATA_SET_PATH = 'dataset/pre_processing/dashboard_data'\n",
    "DASHBOARD_INCOME_DATA = 'income.csv'\n",
    "DASHBOARD_UNEMPLOYMENT_DATA = 'unemployment.csv'\n",
    "DASHBOARD_POPULATION_DATA = 'population.csv'\n",
    "DASHBOARD_REAL_ESTATE_PRICE_ALL_DATA = 'realestate_price_all.csv'\n",
    "DASHBOARD_REAL_ESTATE_PRICE_PARTIAL_DATA = 'realestate_price_partial.csv'"
   ]
  },
  {
   "cell_type": "code",
   "execution_count": 5,
   "metadata": {},
   "outputs": [],
   "source": [
    "income_df = pd.read_csv(os.path.join(DASHBOARD_DATA_SET_PATH, DASHBOARD_INCOME_DATA))\n",
    "unemployment_rate_df = pd.read_csv(os.path.join(DASHBOARD_DATA_SET_PATH, DASHBOARD_UNEMPLOYMENT_DATA))\n",
    "population_df = pd.read_csv(os.path.join(DASHBOARD_DATA_SET_PATH, DASHBOARD_POPULATION_DATA))\n",
    "real_estate_price_all_df = pd.read_csv(os.path.join(DASHBOARD_DATA_SET_PATH, DASHBOARD_REAL_ESTATE_PRICE_ALL_DATA))\n",
    "real_estate_price_partial_df = pd.read_csv(os.path.join(DASHBOARD_DATA_SET_PATH, DASHBOARD_REAL_ESTATE_PRICE_PARTIAL_DATA))\n",
    "\n",
    "income_df['기준년월'] = income_df['기준년월'].apply(lambda x: parse(x))\n",
    "unemployment_rate_df['기준년월'] = unemployment_rate_df['기준년월'].apply(lambda x: parse(x))\n",
    "population_df['기준일'] = population_df['기준일'].apply(lambda x: parse(x))\n",
    "real_estate_price_all_df['기준년월'] = real_estate_price_all_df['기준년월'].apply(lambda x: parse(x))\n",
    "real_estate_price_partial_df['기준년월'] = real_estate_price_partial_df['기준년월'].apply(lambda x: parse(x))"
   ]
  },
  {
   "cell_type": "markdown",
   "metadata": {},
   "source": [
    "# Implement Dashboard by using Dash & Plotly"
   ]
  },
  {
   "cell_type": "markdown",
   "metadata": {},
   "source": [
    "### 아파트 가격"
   ]
  },
  {
   "cell_type": "code",
   "execution_count": 79,
   "metadata": {},
   "outputs": [
    {
     "name": "stdout",
     "output_type": "stream",
     "text": [
      "Dash app running on http://127.0.0.1:8050/\n"
     ]
    }
   ],
   "source": [
    "# Initialize the app - incorporate css\n",
    "external_stylesheets = ['https://codepen.io/chriddyp/pen/bWLwgP.css']\n",
    "app = Dash(__name__, external_stylesheets=external_stylesheets)\n",
    "\n",
    "# App layout\n",
    "app.layout = html.Div([\n",
    "  # 각 구별 아파트 가격 변동 그래프\n",
    "  html.Div(className='row', children=[\n",
    "    html.H1(children='서울시 아파트 가격', style={'textAlign':'center', 'fontSize': 30}),\n",
    "    html.Label('자치구 선택', style={'textAlign': 'center', 'fontSize': 25}),\n",
    "    dcc.Dropdown(id='dropdown_gu_real_estate_price_all', options=real_estate_price_all_df['자치구'].unique(), value=real_estate_price_all_df['자치구'].unique(), multi=True)\n",
    "  ]),\n",
    "  html.Div(className='row', children=[\n",
    "    html.Div(className='four columns', children=[\n",
    "      dcc.Graph(figure={}, id='fig_real_estate_gu_sale_price')\n",
    "    ]),\n",
    "    html.Div(className='four columns', children=[\n",
    "      dcc.Graph(figure={}, id='fig_real_estate_gu_yearly_rent')\n",
    "    ]),\n",
    "    html.Div(className='four columns', children=[\n",
    "      dcc.Graph(figure={}, id='fig_real_estate_gu_monthly_rent')\n",
    "    ]),\n",
    "  ]),\n",
    "  html.Div(className='row', children=[\n",
    "    html.Div(className='six columns', children=[\n",
    "        dcc.Graph(figure={}, id='fig_line_real_estate_dong_price')\n",
    "    ]),\n",
    "    html.Div(className='six columns', children=[\n",
    "        dcc.Graph(figure={}, id='fig_scatter_real_estate_dong_price')\n",
    "    ])\n",
    "  ]),\n",
    "  \n",
    "  html.Hr(),\n",
    "  \n",
    "])\n",
    "\n",
    "# Add controls to build the interaction\n",
    "# 각 구별 아파트 가격 변동 그래프 콜백\n",
    "@callback(\n",
    "    Output(component_id='fig_real_estate_gu_sale_price', component_property='figure'),\n",
    "    Input(component_id='dropdown_gu_real_estate_price_all', component_property='value')\n",
    ")\n",
    "def update_real_estate_gu_sale_price_graph(chosen):\n",
    "    fig = px.line(real_estate_price_all_df.loc[real_estate_price_all_df['자치구'].isin(chosen)], \n",
    "                  x=\"기준년월\", y=\"매매가\", color='자치구', title='자치구별 아파트 매매가 변동')\n",
    "    return fig\n",
    "@callback(\n",
    "    Output(component_id='fig_real_estate_gu_yearly_rent', component_property='figure'),\n",
    "    Input(component_id='dropdown_gu_real_estate_price_all', component_property='value')\n",
    ")\n",
    "def update_real_estate_gu_yearly_rent_graph(chosen):\n",
    "    fig = px.line(real_estate_price_all_df.loc[real_estate_price_all_df['자치구'].isin(chosen)], \n",
    "                  x=\"기준년월\", y=\"전세가\", color='자치구', title='자치구별 아파트 전세가 변동')\n",
    "    return fig\n",
    "@callback(\n",
    "    Output(component_id='fig_real_estate_gu_monthly_rent', component_property='figure'),\n",
    "    Input(component_id='dropdown_gu_real_estate_price_all', component_property='value')\n",
    ")\n",
    "def update_real_estate_gu_monthly_rent_graph(chosen):\n",
    "    fig = px.line(real_estate_price_all_df.loc[real_estate_price_all_df['자치구'].isin(chosen)], \n",
    "                  x=\"기준년월\", y=\"월세가\", color='자치구', title='자치구별 아파트 월세가 변동')\n",
    "    return fig\n",
    "@callback(\n",
    "    Output(component_id='fig_line_real_estate_dong_price', component_property='figure'),\n",
    "    Input(component_id='dropdown_gu_real_estate_price_all', component_property='value')\n",
    ")\n",
    "def update_real_estate_dong_price_graph(chosen):\n",
    "    fig = px.line(real_estate_price_partial_df.loc[real_estate_price_partial_df['시군구명'].isin(chosen)], \n",
    "                  x=\"기준년월\", y=\"아파트_평균_시가\", color=\"시군구명\", line_group=\"행정동_코드_명\", title='자치구별 아파트 평균 시가')\n",
    "    return fig\n",
    "@callback(\n",
    "    Output(component_id='fig_scatter_real_estate_dong_price', component_property='figure'),\n",
    "    Input(component_id='dropdown_gu_real_estate_price_all', component_property='value')\n",
    ")\n",
    "def update_real_estate_dong_price_graph(chosen):\n",
    "    fig = px.scatter(real_estate_price_partial_df.loc[real_estate_price_partial_df['시군구명'].isin(chosen)], \n",
    "                     x=\"아파트_평균_면적\", y=\"아파트_평균_시가\", color=\"시군구명\", size='아파트_단지_수', title='자치구별 아파트 평균 시가에 따른 평균 면적과 단지수의 분포')\n",
    "    return fig\n",
    "\n",
    "# Run the app\n",
    "if __name__ == '__main__':\n",
    "  app.run(jupyter_mode='external', debug=True, port='8888')"
   ]
  },
  {
   "cell_type": "markdown",
   "metadata": {},
   "source": [
    "### 소득소비"
   ]
  },
  {
   "cell_type": "code",
   "execution_count": 40,
   "metadata": {},
   "outputs": [
    {
     "name": "stdout",
     "output_type": "stream",
     "text": [
      "Dash app running on http://127.0.0.1:8888/\n"
     ]
    }
   ],
   "source": [
    "# Initialize the app - incorporate css\n",
    "external_stylesheets = ['https://codepen.io/chriddyp/pen/bWLwgP.css']\n",
    "app = Dash(__name__, external_stylesheets=external_stylesheets)\n",
    "\n",
    "# App layout\n",
    "app.layout = html.Div([\n",
    "  # 각 행정동별 소득소비 그래프\n",
    "  html.Div(className='row', children=[\n",
    "      html.H1(children='서울시 내국인 소득소비', style={'textAlign':'center', 'fontSize': 30})\n",
    "  ]),\n",
    "  html.Div(className='row', children=[\n",
    "    html.Div(className='six columns', children=[\n",
    "        dcc.Graph(figure=px.line(income_df, x=\"기준년월\", y=\"소득_총금액\", color=\"시군구명\", line_group=\"행정동_코드_명\", title='자치구별 월평균 총소득금액 추이'))\n",
    "    ]),\n",
    "    html.Div(className='six columns', children=[\n",
    "        dcc.Graph(\n",
    "          figure=px.scatter(\n",
    "            pd.pivot_table(data=income_df, index=['시군구명', '행정동_코드_명', '소득_구간_코드'], values='소득_총금액').sort_values(by='소득_총금액').reset_index(), \n",
    "            x=\"소득_구간_코드\", \n",
    "            y='소득_총금액',\n",
    "            marginal_x='histogram', title='소득구간코드와 총소득금액의 관계')\n",
    "        )\n",
    "    ])\n",
    "  ]),\n",
    "  \n",
    "  html.Hr(),\n",
    "  \n",
    "])\n",
    "\n",
    "# Run the app\n",
    "if __name__ == '__main__':\n",
    "  app.run(jupyter_mode='external', debug=True, port='8888')"
   ]
  },
  {
   "cell_type": "code",
   "execution_count": 41,
   "metadata": {},
   "outputs": [
    {
     "name": "stdout",
     "output_type": "stream",
     "text": [
      "Dash app running on http://127.0.0.1:8888/\n"
     ]
    }
   ],
   "source": [
    "# Initialize the app - incorporate css\n",
    "external_stylesheets = ['https://codepen.io/chriddyp/pen/bWLwgP.css']\n",
    "app = Dash(__name__, external_stylesheets=external_stylesheets)\n",
    "\n",
    "# Incorporate data\n",
    "data_income_df = income_df.copy().loc[:, '식료품_지출_총금액':]\n",
    "for column in data_income_df.columns:\n",
    "  data_income_df[column] /= income_df['지출_총금액']\n",
    "  \n",
    "data_income_df = pd.concat([income_df.loc[:, ['시군구명', '행정동_코드_명']], data_income_df], axis=1)\n",
    "data_income_df = pd.pivot_table(data=data_income_df, index=['시군구명', '행정동_코드_명'], values=data_income_df.columns[2:])\n",
    "data_income_df.columns = ['교육', '교통', '기타', '생활용품', '식료품', '여가', '유흥', '음식', '의료비', '의류']\n",
    "data_income_df.reset_index(inplace=True)\n",
    "\n",
    "# App layout\n",
    "app.layout = html.Div([\n",
    "  # 각 행정동별 소득소비 그래프\n",
    "  html.Div(className='row', children=[\n",
    "      html.H1(children='서울시 내국인 소득소비', style={'textAlign':'center', 'fontSize': 30})\n",
    "  ]),\n",
    "  html.Div(className='row', children=[\n",
    "    html.Div(className='six columns', children=[\n",
    "        html.Label('자치구 선택', style={'textAlign': 'center', 'fontSize': 25}),\n",
    "        dcc.Dropdown(id='dropdown_gu_income', options=income_df['시군구명'].unique(), value='강남구')\n",
    "    ]),\n",
    "    html.Div(className='six columns', children=[\n",
    "        html.Label('행정동 선택', style={'textAlign': 'center', 'fontSize': 25}),\n",
    "        dcc.Dropdown(id='dropdown_dong_income')\n",
    "    ])\n",
    "  ]),\n",
    "  html.Div(className='row', children=[\n",
    "    html.Div(className='six columns', children=[\n",
    "        dcc.Graph(figure={}, id='fig_bar_income')\n",
    "    ]),\n",
    "    html.Div(className='six columns', children=[\n",
    "        dcc.Graph(figure={}, id='fig_pie_income')\n",
    "    ])\n",
    "  ]),\n",
    "  \n",
    "  html.Hr(),\n",
    "  \n",
    "])\n",
    "\n",
    "# Add controls to build the interaction\n",
    "# 각 행정동별 소득소비 그래프 콜백\n",
    "@callback(\n",
    "  Output(component_id='dropdown_dong_income', component_property='options'),\n",
    "  Input(component_id='dropdown_gu_income', component_property='value')\n",
    ")\n",
    "def set_dong_dropdown_options(selected_gu):\n",
    "  return [{'label': i, 'value': i} for i in income_df.loc[income_df['시군구명'].str.contains(selected_gu)]['행정동_코드_명'].unique()]\n",
    "@callback(\n",
    "  Output(component_id='dropdown_dong_income', component_property='value'),\n",
    "  Input(component_id='dropdown_dong_income', component_property='options')\n",
    ")\n",
    "def set_dong_dropdown_value(available_options):\n",
    "  return available_options[0]['value']\n",
    "@callback(\n",
    "    Output(component_id='fig_bar_income', component_property='figure'),\n",
    "    Input(component_id='dropdown_gu_income', component_property='value'),\n",
    "    Input(component_id='dropdown_dong_income', component_property='value')\n",
    ")\n",
    "def update_income_bar_graph(selected_gu, selected_dong):\n",
    "  df = data_income_df.loc[data_income_df['시군구명'].str.contains(selected_gu) & data_income_df['행정동_코드_명'].str.contains(selected_dong)].loc[:, '교육':].T.reset_index()\n",
    "  df.columns = ['지출항목', '비율']\n",
    "  fig = px.bar(df, x='지출항목', y='비율', title=f'{selected_gu} {selected_dong}의 월평균 총소득액 대비 지출항목 비중', color='지출항목')\n",
    "  return fig\n",
    "@callback(\n",
    "    Output(component_id='fig_pie_income', component_property='figure'),\n",
    "    Input(component_id='dropdown_gu_income', component_property='value'),\n",
    "    Input(component_id='dropdown_dong_income', component_property='value')\n",
    ")\n",
    "def update_income_pie_graph(selected_gu, selected_dong):\n",
    "  df = data_income_df.loc[data_income_df['시군구명'].str.contains(selected_gu) & data_income_df['행정동_코드_명'].str.contains(selected_dong)].loc[:, '교육':].T.reset_index()\n",
    "  df.columns = ['지출항목', '비율']\n",
    "  fig = px.pie(df, names='지출항목', values='비율', title=f'{selected_gu} {selected_dong}의 월평균 총소득액 대비 지출항목 비중', color='지출항목')\n",
    "  return fig\n",
    "\n",
    "# Run the app\n",
    "if __name__ == '__main__':\n",
    "  app.run(jupyter_mode='external', debug=True, port='8888')"
   ]
  },
  {
   "cell_type": "markdown",
   "metadata": {},
   "source": [
    "## 실업률"
   ]
  },
  {
   "cell_type": "code",
   "execution_count": 64,
   "metadata": {},
   "outputs": [
    {
     "name": "stdout",
     "output_type": "stream",
     "text": [
      "Dash app running on http://127.0.0.1:8888/\n"
     ]
    }
   ],
   "source": [
    "# Initialize the app - incorporate css\n",
    "external_stylesheets = ['https://codepen.io/chriddyp/pen/bWLwgP.css']\n",
    "app = Dash(__name__, external_stylesheets=external_stylesheets)\n",
    "\n",
    "# App layout\n",
    "app.layout = html.Div([\n",
    "  # 서울시 경제활동인구 통계 그래프\n",
    "  html.Div(className='row', children=[\n",
    "      html.H1(children='서울시 경제활동인구', style={'textAlign':'center', 'fontSize': 30}),\n",
    "      dcc.Graph(\n",
    "        figure=px.line(unemployment_rate_df[['기준년월', '15세이상인구_합계', '경제활동인구_합계', '경제활동인구_취업자_합계', '경제활동인구_실업자_합계', '비경제활동인구_합계']], \n",
    "                       x=\"기준년월\", \n",
    "                       y=['15세이상인구_합계', '경제활동인구_합계', '경제활동인구_취업자_합계', '경제활동인구_실업자_합계', '비경제활동인구_합계'], \n",
    "                       title='경제활동인구 합계 추이'\n",
    "      ))\n",
    "  ]),\n",
    "  html.Div(className='row', children=[\n",
    "    html.Div(className='six columns', children=[\n",
    "        dcc.Graph(\n",
    "        figure=px.line(unemployment_rate_df[['기준년월'] + [col_name for col_name in unemployment_rate_df.columns if '남자' in col_name]], \n",
    "                       x=\"기준년월\", \n",
    "                       y=[col_name for col_name in unemployment_rate_df.columns if '남자' in col_name], \n",
    "                       title='남성 경제활동인구 합계 추이'\n",
    "      ))\n",
    "    ]),\n",
    "    html.Div(className='six columns', children=[\n",
    "        dcc.Graph(\n",
    "        figure=px.line(unemployment_rate_df[['기준년월'] + [col_name for col_name in unemployment_rate_df.columns if '여자' in col_name]], \n",
    "                       x=\"기준년월\", \n",
    "                       y=[col_name for col_name in unemployment_rate_df.columns if '여자' in col_name], \n",
    "                       title='여성 경제활동인구 합계 추이'\n",
    "      ))\n",
    "    ])\n",
    "  ]),\n",
    "  html.Div(className='row', children=[\n",
    "    dcc.RadioItems(options=unemployment_rate_df.columns[3:], value=unemployment_rate_df.columns[3], id='radio_unemployment_rate'),\n",
    "    dcc.Graph(figure={}, id='fig_line_unemployment_rate')\n",
    "  ]),\n",
    "  \n",
    "  html.Hr(),\n",
    "  \n",
    "])\n",
    "\n",
    "# 서울시 경제활동인구 통계 그래프 콜백\n",
    "@callback(\n",
    "    Output(component_id='fig_line_unemployment_rate', component_property='figure'),\n",
    "    Input(component_id='radio_unemployment_rate', component_property='value')\n",
    ")\n",
    "def update_unemployment_rate_item_graph(col_chosen):\n",
    "    fig = px.line(unemployment_rate_df[['기준년월', col_chosen]], x=\"기준년월\", y=col_chosen, title=f'{col_chosen} 추이')\n",
    "    return fig\n",
    "\n",
    "# Run the app\n",
    "if __name__ == '__main__':\n",
    "  app.run(jupyter_mode='external', debug=True, port='8888')"
   ]
  },
  {
   "cell_type": "markdown",
   "metadata": {},
   "source": [
    "## 생활인구"
   ]
  },
  {
   "cell_type": "code",
   "execution_count": 32,
   "metadata": {},
   "outputs": [
    {
     "name": "stdout",
     "output_type": "stream",
     "text": [
      "Dash app running on http://127.0.0.1:8888/\n"
     ]
    }
   ],
   "source": [
    "# Initialize the app - incorporate css\n",
    "external_stylesheets = ['https://codepen.io/chriddyp/pen/bWLwgP.css']\n",
    "app = Dash(__name__, external_stylesheets=external_stylesheets)\n",
    "\n",
    "# App layout\n",
    "app.layout = html.Div([\n",
    "  # 서울시 생활인구 그래프\n",
    "  html.Div(className='row', children=[\n",
    "      html.H1(children='서울시 생활인구', style={'textAlign':'center', 'fontSize': 30})\n",
    "  ]),  \n",
    "  \n",
    "  html.Div(className='row', children=[\n",
    "    html.Div(className='six columns', children=[\n",
    "      dcc.Graph(\n",
    "        figure=px.line(pd.pivot_table(data=population_df, index=['기준일', '시군구명'], values='총생활인구수', aggfunc='mean').reset_index(), \n",
    "                       x='기준일', y='총생활인구수', line_group='시군구명', color='시군구명', title='총생활인구수 추이'))\n",
    "    ]),\n",
    "    html.Div(className='six columns', children=[\n",
    "      dcc.Graph(\n",
    "        figure=px.bar(pd.pivot_table(data=population_df, index=['시도명', '시군구명'], values='총생활인구수', aggfunc='mean').reset_index(), \n",
    "                       x='시군구명', y='총생활인구수', color='시군구명', title='자치구별 월평균 총생활인구수'))\n",
    "    ]),\n",
    "  ]),\n",
    "  \n",
    "  html.Div(className='row', children=[\n",
    "    html.Label('자치구 선택', style={'textAlign': 'center', 'fontSize': 25}),\n",
    "    dcc.Dropdown(id='dropdown_gu_population', options=population_df['시군구명'].unique(), value='강남구'),\n",
    "    dcc.Graph(figure={}, id='fig_bar_dong_per_gu_population')\n",
    "  ]),  \n",
    "    \n",
    "  html.Hr(),\n",
    "  \n",
    "])\n",
    "\n",
    "# 서울시 생활인구 그래프 콜백\n",
    "@callback(\n",
    "    Output(component_id='fig_bar_dong_per_gu_population', component_property='figure'),\n",
    "    Input(component_id='dropdown_gu_population', component_property='value')\n",
    ")\n",
    "def update_population_dong_per_gu_graph(selected_gu):\n",
    "  df = pd.pivot_table(data=population_df, index=['시도명', '시군구명', '행정동명', '행정동코드'], values='총생활인구수', aggfunc='mean').reset_index()\n",
    "  fig = px.bar(df[df['시군구명'].str.contains(selected_gu)], x='행정동명', y='총생활인구수', color='행정동명', title=f'{selected_gu}의 행정동별 월평균 총생활인구수')\n",
    "  return fig\n",
    "\n",
    "# Run the app\n",
    "if __name__ == '__main__':\n",
    "  app.run(jupyter_mode='external', debug=True, port='8888')"
   ]
  },
  {
   "cell_type": "code",
   "execution_count": 71,
   "metadata": {},
   "outputs": [
    {
     "name": "stdout",
     "output_type": "stream",
     "text": [
      "Dash app running on http://127.0.0.1:8888/\n"
     ]
    }
   ],
   "source": [
    "# Initialize the app - incorporate css\n",
    "external_stylesheets = ['https://codepen.io/chriddyp/pen/bWLwgP.css']\n",
    "app = Dash(__name__, external_stylesheets=external_stylesheets)\n",
    "\n",
    "value_population_df = population_df.loc[:, population_df.columns[8:]]\n",
    "for column in value_population_df.columns:\n",
    "  value_population_df[column] /= population_df['총생활인구수']\n",
    "data_population_df = pd.concat([population_df.loc[:, population_df.columns[0:7]], value_population_df], axis=1)\n",
    "# 행정동별 생활인구 연령 비율\n",
    "pop_per_dong_df = pd.pivot_table(data=data_population_df, index=['시군구명', '행정동명', '행정동코드'], values=population_df.columns[8:]).reset_index()\n",
    "\n",
    "# App layout\n",
    "app.layout = html.Div([\n",
    "  # 서울시 생활인구 그래프\n",
    "  html.Div(className='row', children=[\n",
    "      html.H1(children='서울시 생활인구', style={'textAlign':'center', 'fontSize': 30})\n",
    "  ]),  \n",
    "  \n",
    "  html.Div(className='row', children=[\n",
    "    html.Div(className='six columns', children=[\n",
    "      dcc.Graph(\n",
    "        figure=px.line(pd.pivot_table(data=population_df, index=['기준일', '시군구명'], values='총생활인구수', aggfunc='mean').reset_index(), \n",
    "                       x='기준일', y='총생활인구수', line_group='시군구명', color='시군구명', title='총생활인구수 추이'))\n",
    "    ]),\n",
    "    html.Div(className='six columns', children=[\n",
    "      dcc.Graph(\n",
    "        figure=px.bar(pd.pivot_table(data=population_df, index=['시도명', '시군구명'], values='총생활인구수', aggfunc='mean').reset_index(), \n",
    "                       x='시군구명', y='총생활인구수', color='시군구명', title='자치구별 월평균 총생활인구수'))\n",
    "    ]),\n",
    "  ]),\n",
    "  html.Div(className='row', children=[\n",
    "    html.Div(className='six columns', children=[\n",
    "      html.Label('자치구 선택', style={'textAlign': 'center', 'fontSize': 25}),\n",
    "      dcc.Dropdown(id='dropdown_gu_population', options=population_df['시군구명'].unique(), value='강남구'),\n",
    "      dcc.Graph(figure={}, id='fig_bar_dong_per_gu_population')\n",
    "    ]),\n",
    "    html.Div(className='six columns', children=[\n",
    "      html.Label('행정동 선택', style={'textAlign': 'center', 'fontSize': 25}),      \n",
    "      dcc.Dropdown(id='dropdown_dong_population'),\n",
    "      dcc.Graph(figure={}, id='fig_pie_dong_population')\n",
    "    ])    \n",
    "  ]),\n",
    "    \n",
    "  html.Hr(),\n",
    "  \n",
    "])\n",
    "\n",
    "# 서울시 생활인구 그래프 콜백\n",
    "@callback(\n",
    "    Output(component_id='fig_bar_dong_per_gu_population', component_property='figure'),\n",
    "    Input(component_id='dropdown_gu_population', component_property='value')\n",
    ")\n",
    "def update_population_dong_per_gu_graph(selected_gu):\n",
    "  df = pd.pivot_table(data=population_df, index=['시도명', '시군구명', '행정동명', '행정동코드'], values='총생활인구수', aggfunc='mean').reset_index()\n",
    "  fig = px.bar(df[df['시군구명'].str.contains(selected_gu)], x='행정동명', y='총생활인구수', color='행정동명', title=f'{selected_gu}의 행정동별 월평균 총생활인구수')\n",
    "  return fig\n",
    "@callback(\n",
    "  Output(component_id='dropdown_dong_population', component_property='options'),\n",
    "  Input(component_id='dropdown_gu_population', component_property='value')\n",
    ")\n",
    "def set_dong_dropdown_options(selected_gu):\n",
    "  return [{'label': i, 'value': i} for i in population_df.loc[population_df['시군구명'].str.contains(selected_gu)]['행정동명'].unique()]\n",
    "@callback(\n",
    "  Output(component_id='dropdown_dong_population', component_property='value'),\n",
    "  Input(component_id='dropdown_dong_population', component_property='options')\n",
    ")\n",
    "def set_dong_dropdown_value(available_options):\n",
    "  return available_options[0]['value']\n",
    "@callback(\n",
    "    Output(component_id='fig_pie_dong_population', component_property='figure'),\n",
    "    Input(component_id='dropdown_gu_population', component_property='value'),\n",
    "    Input(component_id='dropdown_dong_population', component_property='value')\n",
    ")\n",
    "def update_population_dong_pie_graph(selected_gu, selected_dong):  \n",
    "  df = pop_per_dong_df.loc[pop_per_dong_df['시군구명'].str.contains(selected_gu) & pop_per_dong_df['행정동명'].str.contains(selected_dong)].loc[:, '0 ~ 9세':].T.reset_index()\n",
    "  df.columns = ['연령', '비율']\n",
    "  fig = px.pie(df, names='연령', values='비율', title=f'{selected_gu} {selected_dong}의 월평균 생활인구 연령 비중', color='연령')\n",
    "  return fig\n",
    "\n",
    "\n",
    "# Run the app\n",
    "if __name__ == '__main__':\n",
    "  app.run(jupyter_mode='external', debug=True, port='8888')"
   ]
  },
  {
   "cell_type": "markdown",
   "metadata": {},
   "source": [
    "## 상관관계 분석"
   ]
  },
  {
   "cell_type": "markdown",
   "metadata": {},
   "source": [
    "### 아파트 가격 & 소득소비"
   ]
  },
  {
   "cell_type": "code",
   "execution_count": 107,
   "metadata": {},
   "outputs": [
    {
     "name": "stdout",
     "output_type": "stream",
     "text": [
      "Dash app running on http://127.0.0.1:8888/\n"
     ]
    }
   ],
   "source": [
    "# Initialize the app - incorporate css\n",
    "external_stylesheets = ['https://codepen.io/chriddyp/pen/bWLwgP.css']\n",
    "app = Dash(__name__, external_stylesheets=external_stylesheets)\n",
    "\n",
    "income_df_for_corr = pd.pivot_table(data=income_df, \n",
    "                                  index=['기준년월', '기준년도', '기준월', '시도명', '시군구명'], \n",
    "                                  values=['소득_구간_코드', '소득_총금액', '지출_총금액'], aggfunc='mean').reset_index()\n",
    "income_realestate_df = pd.merge(left=income_df_for_corr, right=real_estate_price_all_df, how='left', left_on=['기준년도', '기준월', '시군구명'], right_on=['기준년도', '기준월', '자치구'])\n",
    "income_realestate_df.drop(columns=['기준년월_y','자치구'], inplace=True)\n",
    "income_realestate_df.columns = ['기준년월', '기준년도', '기준월', '시도명', '시군구명', '소득_구간_코드', '소득_총금액', '지출_총금액', '매매가', '전세가', '월세가']\n",
    "\n",
    "income_realestate_partial_df = pd.merge(left=income_df.loc[:, '기준년월':'지출_총금액'], right=real_estate_price_partial_df, how='inner', \n",
    "                     left_on=['기준년도', '기준월', '시도명', '시군구명', '행정동_코드_명', '행정동_코드'], \n",
    "                     right_on=['기준년도', '기준월', '시도명', '시군구명', '행정동_코드_명', '행정동_코드'])\n",
    "income_realestate_partial_df.drop(columns=['기준년월_y'], inplace=True)\n",
    "income_realestate_partial_df.columns = ['기준년월', '기준년도', '기준월', '시도명', '시군구명', '행정동_코드_명', '행정동_코드', '소득_총금액',\n",
    "       '소득_구간_코드', '지출_총금액', '아파트_단지_수', '아파트_평균_면적', '아파트_평균_시가']\n",
    "\n",
    "# App layout\n",
    "app.layout = html.Div([\n",
    "  # 아파트 가격과 소득소비의 상관관계분석 그래프\n",
    "  html.Div(className='row', children=[\n",
    "    html.H1(children='서울시 아파트 가격과 소득소비의 상관관계분석', style={'textAlign':'center', 'fontSize': 30})\n",
    "  ]),\n",
    "  html.Div(className='row', children=[\n",
    "    html.Div(className='four columns', children=[\n",
    "      dcc.Graph(figure=px.scatter(income_realestate_df, x='소득_총금액', y='매매가', title='총소득금액과 아파트 매매가의 상관관계', color='시군구명'))\n",
    "    ]),\n",
    "    html.Div(className='four columns', children=[\n",
    "      dcc.Graph(figure=px.scatter(income_realestate_df, x='소득_총금액', y='전세가', title='총소득금액과 아파트 매매가의 상관관계', color='시군구명'))\n",
    "    ]),\n",
    "    html.Div(className='four columns', children=[\n",
    "      dcc.Graph(figure=px.scatter(income_realestate_df, x='소득_총금액', y='월세가', title='총소득금액과 아파트 매매가의 상관관계', color='시군구명'))\n",
    "    ]),\n",
    "  ]),\n",
    "  html.Div(className='row', children=[\n",
    "    html.Div(className='six columns', children=[\n",
    "      dcc.Graph(figure=px.scatter(income_realestate_partial_df, x='소득_총금액', y='아파트_평균_시가', title='총소득금액과 아파트 평균시가의 상관관계', color='시군구명'))\n",
    "    ]),\n",
    "    html.Div(className='six columns', children=[\n",
    "      dcc.Graph(figure=px.scatter(income_realestate_partial_df, x='소득_총금액', y='아파트_평균_면적', title='총소득금액과 아파트 평균면적의 상관관계', color='시군구명'))\n",
    "    ]),\n",
    "  ]),  \n",
    "  html.Div(className='row', children=[\n",
    "    html.Div(className='six columns', children=[\n",
    "      dcc.Graph(figure=px.imshow(income_realestate_df.drop(columns=income_realestate_df.columns[0:5]).corr().round(2), \n",
    "                title='소득과 아파트 매매/전세/월세가 데이터의 Correlation heatmap',\n",
    "                text_auto=True, \n",
    "                color_continuous_scale=\"Reds\"))\n",
    "    ]),\n",
    "    html.Div(className='six columns', children=[\n",
    "      dcc.Graph(figure=px.imshow(income_realestate_partial_df.drop(columns=income_realestate_partial_df.columns[0:7]).corr().round(2), \n",
    "                title='소득과 아파트 평균 면적/시가 데이터의 Correlation heatmap',\n",
    "                text_auto=True, \n",
    "                color_continuous_scale=\"Blues\"))\n",
    "    ]),\n",
    "  ]),  \n",
    "  \n",
    "  html.Hr(),\n",
    "  \n",
    "])\n",
    "\n",
    "# Run the app\n",
    "if __name__ == '__main__':\n",
    "  app.run(jupyter_mode='external', debug=True, port='8888')"
   ]
  },
  {
   "cell_type": "markdown",
   "metadata": {},
   "source": [
    "### 아파트 가격 & 경제활동인구"
   ]
  },
  {
   "cell_type": "code",
   "execution_count": 115,
   "metadata": {},
   "outputs": [
    {
     "name": "stdout",
     "output_type": "stream",
     "text": [
      "Dash app running on http://127.0.0.1:8888/\n"
     ]
    }
   ],
   "source": [
    "# Initialize the app - incorporate css\n",
    "external_stylesheets = ['https://codepen.io/chriddyp/pen/bWLwgP.css']\n",
    "app = Dash(__name__, external_stylesheets=external_stylesheets)\n",
    "\n",
    "unemployment_rate_df.loc[:, ['기준년월', '기준년도', '기준월', '15세이상인구_합계', '경제활동인구_합계', '경제활동인구_취업자_합계', '경제활동인구_실업자_합계', '비경제활동인구_합계']].columns\n",
    "pd.pivot_table(data=real_estate_price_all_df, index=['기준년도', '기준월'], values=['매매가', '전세가', '월세가'], aggfunc='mean').reset_index().head()\n",
    "unemployment_rate_realestate_df = pd.merge(left=unemployment_rate_df.loc[:, ['기준년월', '기준년도', '기준월', '15세이상인구_합계', '경제활동인구_합계', '경제활동인구_취업자_합계', '경제활동인구_실업자_합계', '비경제활동인구_합계']],\n",
    "         right=pd.pivot_table(data=real_estate_price_all_df, index=['기준년도', '기준월'], values=['매매가', '전세가', '월세가'], aggfunc='mean').reset_index(),\n",
    "         left_on=['기준년도', '기준월'],\n",
    "         right_on=['기준년도', '기준월'],\n",
    "         how='inner')\n",
    "\n",
    "# App layout\n",
    "app.layout = html.Div([\n",
    "  # 아파트 가격과 경제활동인구의 상관관계분석 그래프\n",
    "  html.Div(className='row', children=[\n",
    "    html.H1(children='서울시 아파트 가격과 경제활동인구의 상관관계분석', style={'textAlign':'center', 'fontSize': 30}),\n",
    "    dcc.Graph(figure=px.imshow(unemployment_rate_realestate_df.drop(columns=unemployment_rate_realestate_df.columns[0:3]).corr().round(2), \n",
    "                title='경제활동인구와 아파트 매매/전세/월세가 데이터의 Correlation heatmap',\n",
    "                text_auto=True, \n",
    "                color_continuous_scale=\"Greens\"))\n",
    "  ]),\n",
    "  \n",
    "  html.Hr(),\n",
    "  \n",
    "])\n",
    "\n",
    "# Run the app\n",
    "if __name__ == '__main__':\n",
    "  app.run(jupyter_mode='external', debug=True, port='8888')"
   ]
  },
  {
   "cell_type": "markdown",
   "metadata": {},
   "source": [
    "### 아파트 가격 & 생활인구"
   ]
  },
  {
   "cell_type": "code",
   "execution_count": 135,
   "metadata": {},
   "outputs": [
    {
     "name": "stdout",
     "output_type": "stream",
     "text": [
      "Dash app running on http://127.0.0.1:8888/\n"
     ]
    }
   ],
   "source": [
    "# Initialize the app - incorporate css\n",
    "external_stylesheets = ['https://codepen.io/chriddyp/pen/bWLwgP.css']\n",
    "app = Dash(__name__, external_stylesheets=external_stylesheets)\n",
    "\n",
    "# 총생활인구\n",
    "population_all_realestate_df = pd.merge(left=population_df.loc[:, :'총생활인구수'].pivot_table(index=['기준년도', '기준월', '시도명', '시군구명'], values='총생활인구수', aggfunc='mean').reset_index(),\n",
    "         right=real_estate_price_all_df, \n",
    "         left_on=['기준년도', '기준월', '시군구명'], \n",
    "         right_on=['기준년도', '기준월', '자치구'], \n",
    "         how='inner')\n",
    "population_all_realestate_df.drop(columns=['자치구'], inplace=True)\n",
    "population_all_realestate_df = population_all_realestate_df.loc[:, ['기준년월', '기준년도', '기준월', '시도명', '시군구명', '총생활인구수', '매매가', '전세가', '월세가']]\n",
    "# 연령별비율\n",
    "population_age_realestate_df = pd.merge(left=pd.pivot_table(data=data_population_df, index=['기준년도', '기준월', '시도명', '시군구명'], values=population_df.columns[8:]).reset_index(), \n",
    "         right=real_estate_price_all_df, \n",
    "         left_on=['기준년도', '기준월', '시군구명'], \n",
    "         right_on=['기준년도', '기준월', '자치구'], \n",
    "         how='inner')\n",
    "population_age_realestate_df.drop(columns=['자치구'], inplace=True)\n",
    "population_age_realestate_df = population_age_realestate_df.loc[:, ['기준년월', '기준년도', '기준월', '시도명', '시군구명', '0 ~ 9세', '10 ~ 14세', '15 ~ 19세',\n",
    "       '20 ~ 24세', '25 ~ 29세', '30 ~ 34세', '35 ~ 39세', '40 ~ 44세', '45 ~ 49세', '50 ~ 54세', '55 ~ 59세', \n",
    "       '60 ~ 64세', '65 ~ 69세', '70세이상', '매매가', '전세가', '월세가']]\n",
    "\n",
    "# App layout\n",
    "app.layout = html.Div([\n",
    "  # 아파트 가격과 생활인구의 상관관계분석 그래프\n",
    "  html.Div(className='row', children=[\n",
    "    html.H1(children='서울시 아파트 가격과 생활인구의 상관관계분석', style={'textAlign':'center', 'fontSize': 30}),\n",
    "  ]),\n",
    "  html.Div(className='row', children=[\n",
    "    html.Div(className='four columns', children=[\n",
    "      dcc.Graph(figure=px.scatter(population_all_realestate_df, x='총생활인구수', y='매매가', title='총생활인구수와 아파트 매매가의 상관관계', color='시군구명'))\n",
    "    ]),\n",
    "    html.Div(className='four columns', children=[\n",
    "      dcc.Graph(figure=px.scatter(population_all_realestate_df, x='총생활인구수', y='전세가', title='총생활인구수와 아파트 매매가의 상관관계', color='시군구명'))\n",
    "    ]),\n",
    "    html.Div(className='four columns', children=[\n",
    "      dcc.Graph(figure=px.scatter(population_all_realestate_df, x='총생활인구수', y='월세가', title='총생활인구수와 아파트 매매가의 상관관계', color='시군구명'))\n",
    "    ]),\n",
    "  ]),\n",
    "  html.Div(className='row', children=[\n",
    "    html.Div(className='six columns', children=[\n",
    "      dcc.Graph(figure=px.imshow(population_all_realestate_df.drop(columns=population_all_realestate_df.columns[0:5]).corr().round(2), \n",
    "              title='총생활인구와 아파트 매매/전세/월세가 데이터의 Correlation heatmap',\n",
    "              text_auto=True, \n",
    "              color_continuous_scale=\"Magenta\"))\n",
    "    ]),\n",
    "    html.Div(className='six columns', children=[\n",
    "      dcc.Graph(figure=px.imshow(population_age_realestate_df.drop(columns=population_age_realestate_df.columns[0:5]).corr().round(2), \n",
    "              title='연령별 생활인구와 아파트 매매/전세/월세가 데이터의 Correlation heatmap',\n",
    "              text_auto=True, \n",
    "              color_continuous_scale=\"Reds\"))\n",
    "    ])\n",
    "  ]),\n",
    "  \n",
    "  html.Hr(),\n",
    "  \n",
    "])\n",
    "\n",
    "# Run the app\n",
    "if __name__ == '__main__':\n",
    "  app.run(jupyter_mode='external', debug=True, port='8888')"
   ]
  },
  {
   "cell_type": "markdown",
   "metadata": {},
   "source": [
    "### 생활인구 & 소득소비"
   ]
  },
  {
   "cell_type": "code",
   "execution_count": 156,
   "metadata": {},
   "outputs": [
    {
     "name": "stderr",
     "output_type": "stream",
     "text": [
      "/var/folders/88/5nvn4tln5150l93ty6c7l6bm0000gn/T/ipykernel_1479/1984918239.py:7: FutureWarning:\n",
      "\n",
      "pivot_table dropped a column because it failed to aggregate. This behavior is deprecated and will raise in a future version of pandas. Select only the columns that can be aggregated.\n",
      "\n",
      "/var/folders/88/5nvn4tln5150l93ty6c7l6bm0000gn/T/ipykernel_1479/1984918239.py:10: FutureWarning:\n",
      "\n",
      "pivot_table dropped a column because it failed to aggregate. This behavior is deprecated and will raise in a future version of pandas. Select only the columns that can be aggregated.\n",
      "\n"
     ]
    },
    {
     "name": "stdout",
     "output_type": "stream",
     "text": [
      "Dash app running on http://127.0.0.1:8888/\n"
     ]
    }
   ],
   "source": [
    "# Initialize the app - incorporate css\n",
    "external_stylesheets = ['https://codepen.io/chriddyp/pen/bWLwgP.css']\n",
    "app = Dash(__name__, external_stylesheets=external_stylesheets)\n",
    "\n",
    "# 총생활인구수\n",
    "population_all_income_df = pd.merge(left=population_df, right=income_df, left_on=['기준년도', '기준월', '시도명', '시군구명', '행정동명', '행정동코드'],\n",
    "         right_on=['기준년도', '기준월', '시도명', '시군구명', '행정동_코드_명', '행정동_코드'], how='inner').pivot_table(index=['기준년도', '기준월', '시도명', '시군구명'], aggfunc='mean').reset_index()\n",
    "# 연령별 비율\n",
    "population_age_income_df = pd.merge(left=data_population_df, right=income_df, left_on=['기준년도', '기준월', '시도명', '시군구명', '행정동명', '행정동코드'],\n",
    "         right_on=['기준년도', '기준월', '시도명', '시군구명', '행정동_코드_명', '행정동_코드'], how='inner').pivot_table(index=['기준년도', '기준월', '시도명', '시군구명'], aggfunc='mean').reset_index()\n",
    "\n",
    "\n",
    "# App layout\n",
    "app.layout = html.Div([\n",
    "  # 소득소비와 생활인구의 상관관계분석 그래프\n",
    "  html.Div(className='row', children=[\n",
    "    html.H1(children='서울시 소득소비와 생활인구의 상관관계분석', style={'textAlign':'center', 'fontSize': 30}),\n",
    "  ]),\n",
    "  html.Div(className='row', children=[\n",
    "    html.Div(className='six columns', children=[\n",
    "      dcc.Graph(figure=px.imshow(population_all_income_df.drop(columns=population_all_income_df.columns[0:4]).corr().round(2), \n",
    "              title='자치구별 소득소비와 총생활인구 데이터의 Correlation heatmap',\n",
    "              text_auto=True, \n",
    "              color_continuous_scale=\"Reds\"))\n",
    "    ]),\n",
    "    html.Div(className='six columns', children=[\n",
    "      dcc.Graph(figure=px.imshow(population_age_income_df.drop(columns=population_age_income_df.columns[0:4]).corr().round(2), \n",
    "              title='자치구별 소득소비와 연령비율 데이터의 Correlation heatmap',\n",
    "              text_auto=True, \n",
    "              color_continuous_scale=\"Reds\"))\n",
    "    ])\n",
    "  ]),\n",
    "  \n",
    "  html.Hr(),\n",
    "  \n",
    "])\n",
    "\n",
    "# Run the app\n",
    "if __name__ == '__main__':\n",
    "  app.run(jupyter_mode='external', debug=True, port='8888')"
   ]
  }
 ],
 "metadata": {
  "kernelspec": {
   "display_name": "upstage-ai-lab",
   "language": "python",
   "name": "upstage-ai-lab"
  },
  "language_info": {
   "codemirror_mode": {
    "name": "ipython",
    "version": 3
   },
   "file_extension": ".py",
   "mimetype": "text/x-python",
   "name": "python",
   "nbconvert_exporter": "python",
   "pygments_lexer": "ipython3",
   "version": "3.11.8"
  }
 },
 "nbformat": 4,
 "nbformat_minor": 2
}
